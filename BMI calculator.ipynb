{
 "cells": [
  {
   "cell_type": "code",
   "execution_count": null,
   "id": "51c65548-9cc4-4c75-82a1-55188bab72d1",
   "metadata": {},
   "outputs": [],
   "source": [
    "# BMI stands for Body Mass index. it is the measurement of body fat based on height and weight. Can be calculated using pounds and inches\n",
    "# BMI = (weight in pounds x 703) / (height in inches x height in inches)"
   ]
  },
  {
   "cell_type": "code",
   "execution_count": 20,
   "id": "90928aae-44af-4594-9554-ef020c8de1cc",
   "metadata": {},
   "outputs": [
    {
     "name": "stdin",
     "output_type": "stream",
     "text": [
      "Enter your name:  Takudzwa\n",
      "Enter your weight in pounds:  170\n",
      "Enter your height in inches:  69\n"
     ]
    },
    {
     "name": "stdout",
     "output_type": "stream",
     "text": [
      "25.101869355177485\n",
      "Takudzwa, you are overweight.\n"
     ]
    }
   ],
   "source": [
    "name = input(\"Enter your name: \")\n",
    "\n",
    "weight = int(input(\"Enter your weight in pounds: \"))\n",
    "\n",
    "height = int(input(\"Enter your height in inches: \"))\n",
    "\n",
    "BMI =   (weight  * 703) / (height  *  height)\n",
    "\n",
    "print(BMI)\n",
    "\n",
    "if BMI>0:\n",
    "    if(BMI<18.5):\n",
    "        print(name + \", you are underweight.\")\n",
    "    elif (BMI<=24.9):\n",
    "        print(name + \", you are normal weight.\")\n",
    "    elif (BMI<29.9):\n",
    "        print(name + \", you are overweight.\")\n",
    "    elif (BMI<34.9):\n",
    "        print(name + \", you are overweight.\")\n",
    "    elif (BMI<39.9):\n",
    "        print(name + \", you are overweight.\")\n",
    "    else:\n",
    "        print(name + \", You are morbidly obese.\")\n",
    "else:\n",
    "    print(\"Enter valid input\")"
   ]
  },
  {
   "cell_type": "code",
   "execution_count": null,
   "id": "8555553d-34a1-4a2a-b6aa-f59fde18c96a",
   "metadata": {},
   "outputs": [],
   "source": []
  },
  {
   "cell_type": "code",
   "execution_count": null,
   "id": "aba45a9c-98f5-434c-90ab-f402a459d55e",
   "metadata": {},
   "outputs": [],
   "source": []
  },
  {
   "cell_type": "code",
   "execution_count": null,
   "id": "0d50c4ba-eaae-4dd8-bad8-dc90ce8491b5",
   "metadata": {},
   "outputs": [],
   "source": []
  },
  {
   "cell_type": "code",
   "execution_count": null,
   "id": "8f0f85d8-5692-4a3c-9205-ac22bdcf7e3d",
   "metadata": {},
   "outputs": [],
   "source": []
  },
  {
   "cell_type": "code",
   "execution_count": null,
   "id": "78bc96c0-b063-4325-ac43-2587e28f02b0",
   "metadata": {},
   "outputs": [],
   "source": [
    "under 18.5  -->Underweight-->Minimal\n",
    "18.5 - 24.9 -->Normal Weight-->Minimal\n",
    "25 - 29.9   -->Overweight-->Increased\n",
    "30 - 34.9   -->Obese-->High\n",
    "35-39.9     -->Severley Obese-->Very High\n",
    "40 and over -->Morbidly Obese-->Extremely High"
   ]
  },
  {
   "cell_type": "code",
   "execution_count": null,
   "id": "ac5264ea-615e-44ba-92ce-f951630431b5",
   "metadata": {},
   "outputs": [],
   "source": []
  },
  {
   "cell_type": "code",
   "execution_count": null,
   "id": "02ce6def-737a-407c-8ac2-b9ec1cbb1fcc",
   "metadata": {},
   "outputs": [],
   "source": [
    "print(weight)"
   ]
  },
  {
   "cell_type": "code",
   "execution_count": 18,
   "id": "34d02909-7111-4c3b-9c67-ac531e2b5aef",
   "metadata": {},
   "outputs": [
    {
     "name": "stdout",
     "output_type": "stream",
     "text": [
      "Takudzwa, you are overweight.\n"
     ]
    }
   ],
   "source": [
    "if BMI>0:\n",
    "    if(BMI<18.5):\n",
    "        print(name + \", you are underweight.\")\n",
    "    elif (BMI<=24.9):\n",
    "        print(name + \", you are normal weight.\")\n",
    "    elif (BMI<29.9):\n",
    "        print(name + \", you are overweight.\")\n",
    "    elif (BMI<34.9):\n",
    "        print(name + \", you are overweight.\")\n",
    "    elif (BMI<39.9):\n",
    "        print(name + \", you are overweight.\")\n",
    "    else:\n",
    "        print(name + \", You are morbidly obese.\")\n",
    "else:\n",
    "    print(\"Enter valid input\")"
   ]
  },
  {
   "cell_type": "code",
   "execution_count": null,
   "id": "79861be3-2569-4e48-8e4c-3d22040ff907",
   "metadata": {},
   "outputs": [],
   "source": []
  },
  {
   "cell_type": "code",
   "execution_count": null,
   "id": "d17d9403-a357-4c17-8c14-bce8e1d7f6a6",
   "metadata": {},
   "outputs": [],
   "source": []
  },
  {
   "cell_type": "code",
   "execution_count": null,
   "id": "85bf3245-4766-45e5-95d2-7b79534d243b",
   "metadata": {},
   "outputs": [],
   "source": []
  }
 ],
 "metadata": {
  "kernelspec": {
   "display_name": "Python 3 (ipykernel)",
   "language": "python",
   "name": "python3"
  },
  "language_info": {
   "codemirror_mode": {
    "name": "ipython",
    "version": 3
   },
   "file_extension": ".py",
   "mimetype": "text/x-python",
   "name": "python",
   "nbconvert_exporter": "python",
   "pygments_lexer": "ipython3",
   "version": "3.11.7"
  }
 },
 "nbformat": 4,
 "nbformat_minor": 5
}
